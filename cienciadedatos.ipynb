{
  "nbformat": 4,
  "nbformat_minor": 0,
  "metadata": {
    "colab": {
      "provenance": [],
      "authorship_tag": "ABX9TyP9OlIO8D7tc5/Ey26vBcbL",
      "include_colab_link": true
    },
    "kernelspec": {
      "name": "python3",
      "display_name": "Python 3"
    },
    "language_info": {
      "name": "python"
    }
  },
  "cells": [
    {
      "cell_type": "markdown",
      "metadata": {
        "id": "view-in-github",
        "colab_type": "text"
      },
      "source": [
        "<a href=\"https://colab.research.google.com/github/franciscoceschini/cienciadedatos/blob/main/cienciadedatos.ipynb\" target=\"_parent\"><img src=\"https://colab.research.google.com/assets/colab-badge.svg\" alt=\"Open In Colab\"/></a>"
      ]
    },
    {
      "cell_type": "code",
      "execution_count": null,
      "metadata": {
        "colab": {
          "base_uri": "https://localhost:8080/"
        },
        "id": "dArPac_9_YKS",
        "outputId": "ed663478-1706-497d-b86d-edbdc1bdfa7f"
      },
      "outputs": [
        {
          "output_type": "stream",
          "name": "stdout",
          "text": [
            "          ID  LIMIT_BAL  SEX  EDUCATION  MARRIAGE   AGE  PAY_0  PAY_2  PAY_3  \\\n",
            "0          1    20000.0    2          2         1  24.0      2      2     -1   \n",
            "2          3    90000.0    2          2         2  34.0      0      0      0   \n",
            "3          4    50000.0    2          2         1  37.0      0      0      0   \n",
            "4          5    50000.0    1          2         1  57.0     -1      0     -1   \n",
            "6          7   500000.0    1          1         2  29.0      0      0      0   \n",
            "...      ...        ...  ...        ...       ...   ...    ...    ...    ...   \n",
            "29995  29996   220000.0    1          3         1  39.0      0      0      0   \n",
            "29996  29997   150000.0    1          3         2  43.0     -1     -1     -1   \n",
            "29997  29998    30000.0    1          2         2  37.0      4      3      2   \n",
            "29998  29999    80000.0    1          3         1  41.0      1     -1      0   \n",
            "29999  30000    50000.0    1          2         1  46.0      0      0      0   \n",
            "\n",
            "       PAY_4  ...  BILL_AMT4  BILL_AMT5  BILL_AMT6  PAY_AMT1  PAY_AMT2  \\\n",
            "0         -1  ...        0.0        0.0        0.0       0.0     689.0   \n",
            "2          0  ...    14331.0    14948.0    15549.0    1518.0    1500.0   \n",
            "3          0  ...    28314.0    28959.0    29547.0    2000.0    2019.0   \n",
            "4          0  ...    20940.0    19146.0    19131.0    2000.0   36681.0   \n",
            "6          0  ...   542653.0   483003.0   473944.0   55000.0   40000.0   \n",
            "...      ...  ...        ...        ...        ...       ...       ...   \n",
            "29995      0  ...    88004.0    31237.0    15980.0    8500.0   20000.0   \n",
            "29996     -1  ...     8979.0     5190.0        0.0    1837.0    3526.0   \n",
            "29997     -1  ...    20878.0    20582.0    19357.0       0.0       0.0   \n",
            "29998      0  ...    52774.0    11855.0    48944.0   85900.0    3409.0   \n",
            "29999      0  ...    36535.0    32428.0    15313.0    2078.0    1800.0   \n",
            "\n",
            "       PAY_AMT3  PAY_AMT4  PAY_AMT5  PAY_AMT6  default.payment.next.month  \n",
            "0           0.0       0.0       0.0       0.0                           1  \n",
            "2        1000.0    1000.0    1000.0    5000.0                           0  \n",
            "3        1200.0    1100.0    1069.0    1000.0                           0  \n",
            "4       10000.0    9000.0     689.0     679.0                           0  \n",
            "6       38000.0   20239.0   13750.0   13770.0                           0  \n",
            "...         ...       ...       ...       ...                         ...  \n",
            "29995    5003.0    3047.0    5000.0    1000.0                           0  \n",
            "29996    8998.0     129.0       0.0       0.0                           0  \n",
            "29997   22000.0    4200.0    2000.0    3100.0                           1  \n",
            "29998    1178.0    1926.0   52964.0    1804.0                           1  \n",
            "29999    1430.0    1000.0    1000.0    1000.0                           1  \n",
            "\n",
            "[24852 rows x 25 columns]\n"
          ]
        }
      ],
      "source": [
        "import pandas as pd\n",
        "\n",
        "df = pd.read_csv('UCI_Credit_Card_TF.csv')\n",
        "df = df.dropna()\n",
        "\n",
        "print(df)"
      ]
    }
  ]
}